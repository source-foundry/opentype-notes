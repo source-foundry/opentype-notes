{
  "cells": [
    {
      "cell_type": "markdown",
      "metadata": {
        "collapsed": true,
        "pycharm": {
          "name": "#%% md\n",
          "is_executing": false
        }
      },
      "source": "# cmap Table\n\n[![Open In Colab](https://colab.research.google.com/assets/colab-badge.svg)](https://colab.research.google.com/github/source-foundry/opentype-notes/blob/master/notebooks/tables/cmap.ipynb)\n\n## Description\n\n\n\n## Documentation\n\n- [OpenType Specification](https://docs.microsoft.com/en-us/typography/opentype/spec/cmap)\n\n\n## Test Font Settings\n"
    },
    {
      "cell_type": "code",
      "execution_count": null,
      "outputs": [],
      "source": "FONT_URL \u003d \"https://github.com/source-foundry/opentype-notes/blob/master/assets/fonts/roboto/Roboto-Regular.ttf?raw\u003dtrue\"\n",
      "metadata": {
        "pycharm": {
          "metadata": false,
          "name": "#%%\n"
        }
      }
    },
    {
      "cell_type": "markdown",
      "source": "## Read\n",
      "metadata": {
        "pycharm": {
          "metadata": false,
          "name": "#%% md\n"
        }
      }
    },
    {
      "cell_type": "code",
      "execution_count": 10,
      "outputs": [
        {
          "name": "stdout",
          "text": [
            "-rw-r--r--@ 1 chris  staff  349400 May 25  2017 ../../assets/fonts/roboto/Roboto-Regular.ttf\r\n"
          ],
          "output_type": "stream"
        }
      ],
      "source": "!ls -la ../../assets/fonts/roboto/Roboto-Regular.ttf",
      "metadata": {
        "pycharm": {
          "metadata": false,
          "name": "#%%\n",
          "is_executing": false
        }
      }
    }
  ],
  "metadata": {
    "language_info": {
      "codemirror_mode": {
        "name": "ipython",
        "version": 2
      },
      "file_extension": ".py",
      "mimetype": "text/x-python",
      "name": "python",
      "nbconvert_exporter": "python",
      "pygments_lexer": "ipython2",
      "version": "2.7.6"
    },
    "kernelspec": {
      "name": "python3",
      "language": "python",
      "display_name": "Python 3"
    }
  },
  "nbformat": 4,
  "nbformat_minor": 0
}