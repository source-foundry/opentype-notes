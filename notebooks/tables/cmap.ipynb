{
 "cells": [
  {
   "cell_type": "markdown",
   "metadata": {
    "collapsed": true,
    "pycharm": {
     "is_executing": false,
     "name": "#%% md\n"
    }
   },
   "source": [
    "# cmap Table\n",
    "\n",
    "<a href=\"https://colab.research.google.com/github/source-foundry/opentype-notes/blob/master/notebooks/tables/cmap.ipynb\">\n",
    "  <img style=\"margin-left:0;margin-top:15px\" src=\"https://colab.research.google.com/assets/colab-badge.svg\" alt=\"Open In Colab\"/>\n",
    "</a>\n",
    "\n",
    "## Description\n",
    "\n",
    "The cmap table maps glyph definitions in a font to one or more character encodings.  There are seven subtable formats that define different encoding schemes.\n",
    "\n",
    "## Documentation\n",
    "\n",
    "- [OpenType Specification](https://docs.microsoft.com/en-us/typography/opentype/spec/cmap)\n",
    "\n",
    "\n",
    "## Source\n",
    "\n",
    "### Settings\n"
   ]
  },
  {
   "cell_type": "code",
   "execution_count": null,
   "metadata": {
    "pycharm": {
     "is_executing": false,
     "metadata": false,
     "name": "#%%\n"
    }
   },
   "outputs": [],
   "source": [
    "FONT_URL = \"https://github.com/source-foundry/opentype-notes/raw/master/assets/fonts/roboto/Roboto-Regular.ttf\"\n",
    "FONT_PATH = \"Roboto-Regular.ttf\"\n",
    "TTX_PATH = \"Roboto-Regular.ttx\"\n"
   ]
  },
  {
   "cell_type": "markdown",
   "metadata": {
    "pycharm": {
     "metadata": false,
     "name": "#%% md\n"
    }
   },
   "source": [
    "### Setup\n"
   ]
  },
  {
   "cell_type": "code",
   "execution_count": null,
   "metadata": {
    "pycharm": {
     "metadata": false,
     "name": "#%%\n"
    }
   },
   "outputs": [],
   "source": [
    "import os\n",
    "\n",
    "try:\n",
    "    import fontTools\n",
    "except ImportError:\n",
    "    !pip install fontTools\n",
    "\n",
    "if not os.path.exists(FONT_PATH):\n",
    "    !curl -L -O {FONT_URL}\n",
    "    \n",
    "if os.path.exists(TTX_PATH):\n",
    "    os.remove(TTX_PATH)\n"
   ]
  },
  {
   "cell_type": "markdown",
   "metadata": {
    "pycharm": {
     "metadata": false,
     "name": "#%% md\n"
    }
   },
   "source": [
    "### Read\n"
   ]
  },
  {
   "cell_type": "code",
   "execution_count": null,
   "metadata": {
    "pycharm": {
     "is_executing": false,
     "metadata": false,
     "name": "#%%\n"
    }
   },
   "outputs": [],
   "source": [
    "!ttx -t cmap {FONT_PATH}\n",
    "!cat {TTX_PATH}\n",
    "!rm {TTX_PATH}\n",
    "\n"
   ]
  },
  {
   "cell_type": "markdown",
   "metadata": {
    "pycharm": {
     "metadata": false,
     "name": "#%% md\n"
    }
   },
   "source": [
    "### Cleanup\n"
   ]
  },
  {
   "cell_type": "code",
   "execution_count": null,
   "metadata": {
    "pycharm": {
     "is_executing": false,
     "metadata": false,
     "name": "#%%\n"
    }
   },
   "outputs": [],
   "source": [
    "!rm {FONT_PATH}\n"
   ]
  }
 ],
 "metadata": {
  "kernelspec": {
   "display_name": "Python 3",
   "language": "python",
   "name": "python3"
  },
  "language_info": {
   "codemirror_mode": {
    "name": "ipython",
    "version": 2
   },
   "file_extension": ".py",
   "mimetype": "text/x-python",
   "name": "python",
   "nbconvert_exporter": "python",
   "pygments_lexer": "ipython2",
   "version": "2.7.6"
  }
 },
 "nbformat": 4,
 "nbformat_minor": 0
}
