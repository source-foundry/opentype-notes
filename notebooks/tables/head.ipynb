{
 "cells": [
  {
   "cell_type": "markdown",
   "metadata": {
    "pycharm": {
     "metadata": false
    }
   },
   "source": [
    "# head Table\n",
    "\n",
    "<a href=\"https://colab.research.google.com/github/source-foundry/opentype-notes/blob/master/notebooks/tables/head.ipynb\">\n",
    "  <img style=\"margin-left:0;margin-top:15px\" src=\"https://colab.research.google.com/assets/colab-badge.svg\" alt=\"Open In Colab\"/>\n",
    "</a>\n",
    "\n",
    "## Description\n",
    "\n",
    "The head table is a global header for information about a font file.\n",
    "\n",
    "## Documentation\n",
    "\n",
    "- [OpenType Specification](https://docs.microsoft.com/en-us/typography/opentype/spec/head)\n",
    "\n"
   ]
  },
  {
   "cell_type": "markdown",
   "metadata": {
    "pycharm": {
     "metadata": false,
     "name": "#%% md\n"
    }
   },
   "source": [
    "## Source\n"
   ]
  },
  {
   "cell_type": "markdown",
   "metadata": {
    "pycharm": {
     "metadata": false,
     "name": "#%% md\n"
    }
   },
   "source": [
    "### Settings\n",
    "\n",
    "Change the paths below to view the table in a different font.\n"
   ]
  },
  {
   "cell_type": "code",
   "execution_count": null,
   "metadata": {
    "pycharm": {
     "metadata": false,
     "name": "#%%\n"
    }
   },
   "outputs": [],
   "source": [
    "FONT_URL = \"https://github.com/source-foundry/opentype-notes/raw/master/assets/fonts/roboto/Roboto-Regular.ttf\"\n",
    "FONT_PATH = \"Roboto-Regular.ttf\"\n",
    "TTX_PATH = \"Roboto-Regular.ttx\"\n"
   ]
  },
  {
   "cell_type": "markdown",
   "metadata": {
    "pycharm": {
     "metadata": false
    }
   },
   "source": [
    "### Setup\n"
   ]
  },
  {
   "cell_type": "code",
   "execution_count": null,
   "metadata": {
    "pycharm": {
     "metadata": false,
     "name": "#%%\n"
    }
   },
   "outputs": [],
   "source": [
    "import os\n",
    "\n",
    "try:\n",
    "    import fontTools\n",
    "except ImportError:\n",
    "    !pip install fontTools\n",
    "\n",
    "if not os.path.exists(FONT_PATH):\n",
    "    !curl -L -O {FONT_URL}\n",
    "    \n",
    "if os.path.exists(TTX_PATH):\n",
    "    os.remove(TTX_PATH)\n"
   ]
  },
  {
   "cell_type": "markdown",
   "metadata": {
    "pycharm": {
     "metadata": false
    }
   },
   "source": [
    "### View Table\n"
   ]
  },
  {
   "cell_type": "code",
   "execution_count": null,
   "metadata": {
    "pycharm": {
     "metadata": false,
     "name": "#%%\n"
    }
   },
   "outputs": [],
   "source": [
    "!ttx -t head {FONT_PATH}\n",
    "!cat {TTX_PATH}\n",
    "!rm {TTX_PATH}\n"
   ]
  },
  {
   "cell_type": "markdown",
   "metadata": {
    "pycharm": {
     "metadata": false
    }
   },
   "source": [
    "### Read/Write Access to Table\n",
    "\n",
    "- [fontTools `_h_e_a_d.py` module](https://github.com/fonttools/fonttools/blob/master/Lib/fontTools/ttLib/tables/_h_e_a_d.py)\n"
   ]
  },
  {
   "cell_type": "code",
   "execution_count": null,
   "metadata": {
    "pycharm": {
     "metadata": false,
     "name": "#%%\n"
    }
   },
   "outputs": [],
   "source": [
    "import inspect\n",
    "from fontTools.ttLib import TTFont\n",
    "\n",
    "# instantiate table object\n",
    "tt = TTFont(FONT_PATH)\n",
    "cmap_table = tt[\"head\"]\n",
    "\n",
    "# print table methods\n",
    "print(\"Printing methods of {}:\".format(cmap_table))\n",
    "methods = inspect.getmembers(cmap_table, predicate=inspect.ismethod)\n",
    "methods_list = [method[0] for method in methods]\n",
    "for x in sorted(methods_list):\n",
    "    print(x)\n",
    "\n"
   ]
  },
  {
   "cell_type": "markdown",
   "metadata": {
    "pycharm": {
     "metadata": false
    }
   },
   "source": [
    "### Cleanup\n"
   ]
  },
  {
   "cell_type": "code",
   "execution_count": null,
   "metadata": {
    "pycharm": {
     "metadata": false,
     "name": "#%%\n"
    }
   },
   "outputs": [],
   "source": [
    "!rm {FONT_PATH}\n"
   ]
  }
 ],
 "metadata": {
  "kernelspec": {
   "display_name": "Python 3",
   "language": "python",
   "name": "python3"
  },
  "language_info": {
   "codemirror_mode": {
    "name": "ipython",
    "version": 3
   },
   "file_extension": ".py",
   "mimetype": "text/x-python",
   "name": "python",
   "nbconvert_exporter": "python",
   "pygments_lexer": "ipython3",
   "version": "3.7.3"
  },
  "stem_cell": {
   "cell_type": "raw",
   "metadata": {
    "pycharm": {
     "metadata": false
    }
   },
   "source": ""
  }
 },
 "nbformat": 4,
 "nbformat_minor": 1
}
