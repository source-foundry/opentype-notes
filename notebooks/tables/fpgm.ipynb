{
  "cells": [
    {
      "cell_type": "markdown",
      "source": "# fpgm Table\n\n\u003ca href\u003d\"https://colab.research.google.com/github/source-foundry/opentype-notes/blob/master/notebooks/tables/fpgm.ipynb\"\u003e\n  \u003cimg style\u003d\"margin-left:0;margin-top:15px\" src\u003d\"https://colab.research.google.com/assets/colab-badge.svg\" alt\u003d\"Open In Colab\"/\u003e\n\u003c/a\u003e\n\n## Description\n\nThe fpgm table is an optional table that is used in TrueType fonts with instruction sets.  The fpgm table contains global instructions that are executed once when the font is initially used.\n\n## Documentation\n\n- [Apple Specification](https://developer.apple.com/fonts/TrueType-Reference-Manual/RM06/Chap6fpgm.html)\n- [Microsoft Specification](https://docs.microsoft.com/en-us/typography/opentype/spec/fpgm)\n",
      "metadata": {
        "pycharm": {
          "metadata": false
        }
      }
    },
    {
      "cell_type": "markdown",
      "source": "## Source\n",
      "metadata": {
        "pycharm": {
          "metadata": false
        }
      }
    },
    {
      "cell_type": "markdown",
      "source": "### Settings\n\nChange the paths below to view the table in a different font.\n",
      "metadata": {
        "pycharm": {
          "metadata": false
        }
      }
    },
    {
      "cell_type": "code",
      "execution_count": null,
      "outputs": [],
      "source": "FONT_URL \u003d \"https://github.com/source-foundry/opentype-notes/raw/master/assets/fonts/roboto/Roboto-Regular-hinted.ttf\"\nFONT_PATH \u003d \"Roboto-Regular-hinted.ttf\"\nTTX_PATH \u003d \"Roboto-Regular-hinted.ttx\"\n",
      "metadata": {
        "pycharm": {
          "metadata": false,
          "name": "#%%\n"
        }
      }
    },
    {
      "cell_type": "markdown",
      "source": "### Setup\n",
      "metadata": {
        "pycharm": {
          "metadata": false
        }
      }
    },
    {
      "cell_type": "code",
      "execution_count": null,
      "outputs": [],
      "source": "import os\n\ntry:\n    import fontTools\nexcept ImportError:\n    !pip install fontTools\n\nif not os.path.exists(FONT_PATH):\n    !curl -L -O {FONT_URL}\n    \nif os.path.exists(TTX_PATH):\n    os.remove(TTX_PATH)\n",
      "metadata": {
        "pycharm": {
          "metadata": false,
          "name": "#%%\n"
        }
      }
    },
    {
      "cell_type": "markdown",
      "source": "### View Table\n",
      "metadata": {
        "pycharm": {
          "metadata": false
        }
      }
    },
    {
      "cell_type": "code",
      "execution_count": null,
      "outputs": [],
      "source": "!ttx -t fpgm {FONT_PATH}\n!cat {TTX_PATH}\n!rm {TTX_PATH}\n",
      "metadata": {
        "pycharm": {
          "metadata": false,
          "name": "#%%\n"
        }
      }
    },
    {
      "cell_type": "markdown",
      "source": "### Read/Write Access to Table\n\n- [fontTools `_f_p_g_m.py` module](https://github.com/fonttools/fonttools/blob/master/Lib/fontTools/ttLib/tables/_f_p_g_m.py)\n",
      "metadata": {
        "pycharm": {
          "metadata": false
        }
      }
    },
    {
      "cell_type": "code",
      "execution_count": null,
      "outputs": [],
      "source": "import inspect\nfrom fontTools.ttLib import TTFont\n\n# instantiate table object\ntt \u003d TTFont(FONT_PATH)\ntable \u003d tt[\"fpgm\"]\n\n# print table methods\nprint(\"Printing methods of {}:\".format(table))\nmethods \u003d inspect.getmembers(table, predicate\u003dinspect.ismethod)\nmethods_list \u003d [method[0] for method in methods]\nfor x in sorted(methods_list):\n    print(x)\n",
      "metadata": {
        "pycharm": {
          "metadata": false,
          "name": "#%%\n"
        }
      }
    },
    {
      "cell_type": "markdown",
      "source": "### Cleanup\n",
      "metadata": {
        "pycharm": {
          "metadata": false
        }
      }
    },
    {
      "cell_type": "code",
      "execution_count": null,
      "outputs": [],
      "source": "!rm {FONT_PATH}\n",
      "metadata": {
        "pycharm": {
          "metadata": false,
          "name": "#%%\n"
        }
      }
    }
  ],
  "metadata": {
    "language_info": {
      "codemirror_mode": {
        "name": "ipython",
        "version": 2
      },
      "file_extension": ".py",
      "mimetype": "text/x-python",
      "name": "python",
      "nbconvert_exporter": "python",
      "pygments_lexer": "ipython2",
      "version": "2.7.6"
    },
    "kernelspec": {
      "name": "python3",
      "language": "python",
      "display_name": "Python 3"
    },
    "stem_cell": {
      "cell_type": "raw",
      "source": "",
      "metadata": {
        "pycharm": {
          "metadata": false
        }
      }
    }
  },
  "nbformat": 4,
  "nbformat_minor": 0
}